{
 "cells": [
  {
   "cell_type": "code",
   "execution_count": 5,
   "id": "dbef7327",
   "metadata": {},
   "outputs": [
    {
     "name": "stdout",
     "output_type": "stream",
     "text": [
      "Hi Dhana\n"
     ]
    }
   ],
   "source": [
    "print(\"Hi Dhana\")"
   ]
  },
  {
   "cell_type": "code",
   "execution_count": 6,
   "id": "d02c48e1",
   "metadata": {},
   "outputs": [
    {
     "data": {
      "text/plain": [
       "93"
      ]
     },
     "execution_count": 6,
     "metadata": {},
     "output_type": "execute_result"
    }
   ],
   "source": [
    "3+5*(9+9)"
   ]
  },
  {
   "cell_type": "code",
   "execution_count": 7,
   "id": "973fb881",
   "metadata": {},
   "outputs": [
    {
     "name": "stdout",
     "output_type": "stream",
     "text": [
      "line1\n",
      "line2\n"
     ]
    }
   ],
   "source": [
    "print('line1')\n",
    "print('line2')"
   ]
  },
  {
   "cell_type": "code",
   "execution_count": null,
   "id": "ed84f884",
   "metadata": {},
   "outputs": [],
   "source": []
  }
 ],
 "metadata": {
  "kernelspec": {
   "display_name": "Python 3",
   "language": "python",
   "name": "python3"
  },
  "language_info": {
   "codemirror_mode": {
    "name": "ipython",
    "version": 3
   },
   "file_extension": ".py",
   "mimetype": "text/x-python",
   "name": "python",
   "nbconvert_exporter": "python",
   "pygments_lexer": "ipython3",
   "version": "3.13.4"
  }
 },
 "nbformat": 4,
 "nbformat_minor": 5
}
